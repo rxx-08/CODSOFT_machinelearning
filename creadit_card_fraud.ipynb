{
 "cells": [
  {
   "cell_type": "code",
   "execution_count": 1,
   "id": "9078a721-0bb1-49bf-9b5a-810e558df228",
   "metadata": {},
   "outputs": [],
   "source": [
    "import numpy as np # linear algebra\n",
    "import pandas as pd # data processing, CSV file I/O (e.g. pd.read_csv)\n",
    "import matplotlib.pyplot as plt\n",
    "import seaborn as sn\n",
    "\n",
    "import datetime as dt\n",
    "# import category_encoders as ce\n",
    "# import category_encoders.weight_of_evidence_encoder as ce\n",
    "from sklearn.preprocessing import MinMaxScaler"
   ]
  },
  {
   "cell_type": "code",
   "execution_count": 8,
   "id": "fb84089f-c335-4188-bb5e-1f124946d4d1",
   "metadata": {},
   "outputs": [
    {
     "ename": "FileNotFoundError",
     "evalue": "[Errno 2] No such file or directory: 'Downloads/archive (3)/fraudTest.csv'",
     "output_type": "error",
     "traceback": [
      "\u001b[1;31m---------------------------------------------------------------------------\u001b[0m",
      "\u001b[1;31mFileNotFoundError\u001b[0m                         Traceback (most recent call last)",
      "Cell \u001b[1;32mIn[8], line 1\u001b[0m\n\u001b[1;32m----> 1\u001b[0m train\u001b[38;5;241m=\u001b[39mpd\u001b[38;5;241m.\u001b[39mread_csv(\u001b[38;5;124m\"\u001b[39m\u001b[38;5;124mDownloads/archive (3)/fraudTest.csv\u001b[39m\u001b[38;5;124m\"\u001b[39m)\n\u001b[0;32m      2\u001b[0m test\u001b[38;5;241m=\u001b[39mpd\u001b[38;5;241m.\u001b[39mread_csv(\u001b[38;5;124m\"\u001b[39m\u001b[38;5;124mDownloads/archive (3)/fraudTrain.csv\u001b[39m\u001b[38;5;124m\"\u001b[39m)\n",
      "File \u001b[1;32m~\\anaconda3\\Lib\\site-packages\\pandas\\io\\parsers\\readers.py:948\u001b[0m, in \u001b[0;36mread_csv\u001b[1;34m(filepath_or_buffer, sep, delimiter, header, names, index_col, usecols, dtype, engine, converters, true_values, false_values, skipinitialspace, skiprows, skipfooter, nrows, na_values, keep_default_na, na_filter, verbose, skip_blank_lines, parse_dates, infer_datetime_format, keep_date_col, date_parser, date_format, dayfirst, cache_dates, iterator, chunksize, compression, thousands, decimal, lineterminator, quotechar, quoting, doublequote, escapechar, comment, encoding, encoding_errors, dialect, on_bad_lines, delim_whitespace, low_memory, memory_map, float_precision, storage_options, dtype_backend)\u001b[0m\n\u001b[0;32m    935\u001b[0m kwds_defaults \u001b[38;5;241m=\u001b[39m _refine_defaults_read(\n\u001b[0;32m    936\u001b[0m     dialect,\n\u001b[0;32m    937\u001b[0m     delimiter,\n\u001b[1;32m   (...)\u001b[0m\n\u001b[0;32m    944\u001b[0m     dtype_backend\u001b[38;5;241m=\u001b[39mdtype_backend,\n\u001b[0;32m    945\u001b[0m )\n\u001b[0;32m    946\u001b[0m kwds\u001b[38;5;241m.\u001b[39mupdate(kwds_defaults)\n\u001b[1;32m--> 948\u001b[0m \u001b[38;5;28;01mreturn\u001b[39;00m _read(filepath_or_buffer, kwds)\n",
      "File \u001b[1;32m~\\anaconda3\\Lib\\site-packages\\pandas\\io\\parsers\\readers.py:611\u001b[0m, in \u001b[0;36m_read\u001b[1;34m(filepath_or_buffer, kwds)\u001b[0m\n\u001b[0;32m    608\u001b[0m _validate_names(kwds\u001b[38;5;241m.\u001b[39mget(\u001b[38;5;124m\"\u001b[39m\u001b[38;5;124mnames\u001b[39m\u001b[38;5;124m\"\u001b[39m, \u001b[38;5;28;01mNone\u001b[39;00m))\n\u001b[0;32m    610\u001b[0m \u001b[38;5;66;03m# Create the parser.\u001b[39;00m\n\u001b[1;32m--> 611\u001b[0m parser \u001b[38;5;241m=\u001b[39m TextFileReader(filepath_or_buffer, \u001b[38;5;241m*\u001b[39m\u001b[38;5;241m*\u001b[39mkwds)\n\u001b[0;32m    613\u001b[0m \u001b[38;5;28;01mif\u001b[39;00m chunksize \u001b[38;5;129;01mor\u001b[39;00m iterator:\n\u001b[0;32m    614\u001b[0m     \u001b[38;5;28;01mreturn\u001b[39;00m parser\n",
      "File \u001b[1;32m~\\anaconda3\\Lib\\site-packages\\pandas\\io\\parsers\\readers.py:1448\u001b[0m, in \u001b[0;36mTextFileReader.__init__\u001b[1;34m(self, f, engine, **kwds)\u001b[0m\n\u001b[0;32m   1445\u001b[0m     \u001b[38;5;28mself\u001b[39m\u001b[38;5;241m.\u001b[39moptions[\u001b[38;5;124m\"\u001b[39m\u001b[38;5;124mhas_index_names\u001b[39m\u001b[38;5;124m\"\u001b[39m] \u001b[38;5;241m=\u001b[39m kwds[\u001b[38;5;124m\"\u001b[39m\u001b[38;5;124mhas_index_names\u001b[39m\u001b[38;5;124m\"\u001b[39m]\n\u001b[0;32m   1447\u001b[0m \u001b[38;5;28mself\u001b[39m\u001b[38;5;241m.\u001b[39mhandles: IOHandles \u001b[38;5;241m|\u001b[39m \u001b[38;5;28;01mNone\u001b[39;00m \u001b[38;5;241m=\u001b[39m \u001b[38;5;28;01mNone\u001b[39;00m\n\u001b[1;32m-> 1448\u001b[0m \u001b[38;5;28mself\u001b[39m\u001b[38;5;241m.\u001b[39m_engine \u001b[38;5;241m=\u001b[39m \u001b[38;5;28mself\u001b[39m\u001b[38;5;241m.\u001b[39m_make_engine(f, \u001b[38;5;28mself\u001b[39m\u001b[38;5;241m.\u001b[39mengine)\n",
      "File \u001b[1;32m~\\anaconda3\\Lib\\site-packages\\pandas\\io\\parsers\\readers.py:1705\u001b[0m, in \u001b[0;36mTextFileReader._make_engine\u001b[1;34m(self, f, engine)\u001b[0m\n\u001b[0;32m   1703\u001b[0m     \u001b[38;5;28;01mif\u001b[39;00m \u001b[38;5;124m\"\u001b[39m\u001b[38;5;124mb\u001b[39m\u001b[38;5;124m\"\u001b[39m \u001b[38;5;129;01mnot\u001b[39;00m \u001b[38;5;129;01min\u001b[39;00m mode:\n\u001b[0;32m   1704\u001b[0m         mode \u001b[38;5;241m+\u001b[39m\u001b[38;5;241m=\u001b[39m \u001b[38;5;124m\"\u001b[39m\u001b[38;5;124mb\u001b[39m\u001b[38;5;124m\"\u001b[39m\n\u001b[1;32m-> 1705\u001b[0m \u001b[38;5;28mself\u001b[39m\u001b[38;5;241m.\u001b[39mhandles \u001b[38;5;241m=\u001b[39m get_handle(\n\u001b[0;32m   1706\u001b[0m     f,\n\u001b[0;32m   1707\u001b[0m     mode,\n\u001b[0;32m   1708\u001b[0m     encoding\u001b[38;5;241m=\u001b[39m\u001b[38;5;28mself\u001b[39m\u001b[38;5;241m.\u001b[39moptions\u001b[38;5;241m.\u001b[39mget(\u001b[38;5;124m\"\u001b[39m\u001b[38;5;124mencoding\u001b[39m\u001b[38;5;124m\"\u001b[39m, \u001b[38;5;28;01mNone\u001b[39;00m),\n\u001b[0;32m   1709\u001b[0m     compression\u001b[38;5;241m=\u001b[39m\u001b[38;5;28mself\u001b[39m\u001b[38;5;241m.\u001b[39moptions\u001b[38;5;241m.\u001b[39mget(\u001b[38;5;124m\"\u001b[39m\u001b[38;5;124mcompression\u001b[39m\u001b[38;5;124m\"\u001b[39m, \u001b[38;5;28;01mNone\u001b[39;00m),\n\u001b[0;32m   1710\u001b[0m     memory_map\u001b[38;5;241m=\u001b[39m\u001b[38;5;28mself\u001b[39m\u001b[38;5;241m.\u001b[39moptions\u001b[38;5;241m.\u001b[39mget(\u001b[38;5;124m\"\u001b[39m\u001b[38;5;124mmemory_map\u001b[39m\u001b[38;5;124m\"\u001b[39m, \u001b[38;5;28;01mFalse\u001b[39;00m),\n\u001b[0;32m   1711\u001b[0m     is_text\u001b[38;5;241m=\u001b[39mis_text,\n\u001b[0;32m   1712\u001b[0m     errors\u001b[38;5;241m=\u001b[39m\u001b[38;5;28mself\u001b[39m\u001b[38;5;241m.\u001b[39moptions\u001b[38;5;241m.\u001b[39mget(\u001b[38;5;124m\"\u001b[39m\u001b[38;5;124mencoding_errors\u001b[39m\u001b[38;5;124m\"\u001b[39m, \u001b[38;5;124m\"\u001b[39m\u001b[38;5;124mstrict\u001b[39m\u001b[38;5;124m\"\u001b[39m),\n\u001b[0;32m   1713\u001b[0m     storage_options\u001b[38;5;241m=\u001b[39m\u001b[38;5;28mself\u001b[39m\u001b[38;5;241m.\u001b[39moptions\u001b[38;5;241m.\u001b[39mget(\u001b[38;5;124m\"\u001b[39m\u001b[38;5;124mstorage_options\u001b[39m\u001b[38;5;124m\"\u001b[39m, \u001b[38;5;28;01mNone\u001b[39;00m),\n\u001b[0;32m   1714\u001b[0m )\n\u001b[0;32m   1715\u001b[0m \u001b[38;5;28;01massert\u001b[39;00m \u001b[38;5;28mself\u001b[39m\u001b[38;5;241m.\u001b[39mhandles \u001b[38;5;129;01mis\u001b[39;00m \u001b[38;5;129;01mnot\u001b[39;00m \u001b[38;5;28;01mNone\u001b[39;00m\n\u001b[0;32m   1716\u001b[0m f \u001b[38;5;241m=\u001b[39m \u001b[38;5;28mself\u001b[39m\u001b[38;5;241m.\u001b[39mhandles\u001b[38;5;241m.\u001b[39mhandle\n",
      "File \u001b[1;32m~\\anaconda3\\Lib\\site-packages\\pandas\\io\\common.py:863\u001b[0m, in \u001b[0;36mget_handle\u001b[1;34m(path_or_buf, mode, encoding, compression, memory_map, is_text, errors, storage_options)\u001b[0m\n\u001b[0;32m    858\u001b[0m \u001b[38;5;28;01melif\u001b[39;00m \u001b[38;5;28misinstance\u001b[39m(handle, \u001b[38;5;28mstr\u001b[39m):\n\u001b[0;32m    859\u001b[0m     \u001b[38;5;66;03m# Check whether the filename is to be opened in binary mode.\u001b[39;00m\n\u001b[0;32m    860\u001b[0m     \u001b[38;5;66;03m# Binary mode does not support 'encoding' and 'newline'.\u001b[39;00m\n\u001b[0;32m    861\u001b[0m     \u001b[38;5;28;01mif\u001b[39;00m ioargs\u001b[38;5;241m.\u001b[39mencoding \u001b[38;5;129;01mand\u001b[39;00m \u001b[38;5;124m\"\u001b[39m\u001b[38;5;124mb\u001b[39m\u001b[38;5;124m\"\u001b[39m \u001b[38;5;129;01mnot\u001b[39;00m \u001b[38;5;129;01min\u001b[39;00m ioargs\u001b[38;5;241m.\u001b[39mmode:\n\u001b[0;32m    862\u001b[0m         \u001b[38;5;66;03m# Encoding\u001b[39;00m\n\u001b[1;32m--> 863\u001b[0m         handle \u001b[38;5;241m=\u001b[39m \u001b[38;5;28mopen\u001b[39m(\n\u001b[0;32m    864\u001b[0m             handle,\n\u001b[0;32m    865\u001b[0m             ioargs\u001b[38;5;241m.\u001b[39mmode,\n\u001b[0;32m    866\u001b[0m             encoding\u001b[38;5;241m=\u001b[39mioargs\u001b[38;5;241m.\u001b[39mencoding,\n\u001b[0;32m    867\u001b[0m             errors\u001b[38;5;241m=\u001b[39merrors,\n\u001b[0;32m    868\u001b[0m             newline\u001b[38;5;241m=\u001b[39m\u001b[38;5;124m\"\u001b[39m\u001b[38;5;124m\"\u001b[39m,\n\u001b[0;32m    869\u001b[0m         )\n\u001b[0;32m    870\u001b[0m     \u001b[38;5;28;01melse\u001b[39;00m:\n\u001b[0;32m    871\u001b[0m         \u001b[38;5;66;03m# Binary mode\u001b[39;00m\n\u001b[0;32m    872\u001b[0m         handle \u001b[38;5;241m=\u001b[39m \u001b[38;5;28mopen\u001b[39m(handle, ioargs\u001b[38;5;241m.\u001b[39mmode)\n",
      "\u001b[1;31mFileNotFoundError\u001b[0m: [Errno 2] No such file or directory: 'Downloads/archive (3)/fraudTest.csv'"
     ]
    }
   ],
   "source": [
    "train=pd.read_csv(\"Downloads/archive (3)/fraudTest.csv\")\n",
    "test=pd.read_csv(\"Downloads/archive (3)/fraudTrain.csv\")"
   ]
  },
  {
   "cell_type": "code",
   "execution_count": null,
   "id": "c5298abb-bedd-4535-8e6f-529cc1feed0f",
   "metadata": {},
   "outputs": [],
   "source": [
    "train.head()"
   ]
  },
  {
   "cell_type": "code",
   "execution_count": null,
   "id": "713350ab-299d-4357-ad42-f388792f47d7",
   "metadata": {},
   "outputs": [],
   "source": [
    "train.shape\n"
   ]
  },
  {
   "cell_type": "code",
   "execution_count": null,
   "id": "4c24b79d-b99c-480f-8511-a5e67118e449",
   "metadata": {},
   "outputs": [],
   "source": [
    "# msno.matrix(train);\n",
    "train.isna().sum()\n"
   ]
  },
  {
   "cell_type": "code",
   "execution_count": null,
   "id": "5586e551-63bb-44cb-9984-0ad4a7c37607",
   "metadata": {},
   "outputs": [],
   "source": [
    "train.describe().T"
   ]
  },
  {
   "cell_type": "code",
   "execution_count": null,
   "id": "2a898321-b293-4e2d-8903-1cc3dd462a88",
   "metadata": {},
   "outputs": [],
   "source": [
    "sn.kdeplot(train['amt'],fill=True)"
   ]
  },
  {
   "cell_type": "code",
   "execution_count": null,
   "id": "bc110217-e825-4817-8189-46b11c0af4ab",
   "metadata": {},
   "outputs": [],
   "source": [
    "p90=train['amt'].quantile(0.90)\n",
    "sn.kdeplot(x=\"amt\",data=train[train['amt']<=p90],fill=True);\n",
    "#well distribute data now"
   ]
  },
  {
   "cell_type": "code",
   "execution_count": null,
   "id": "44926575-c4e4-4b84-99ae-41f772e7ef12",
   "metadata": {},
   "outputs": [],
   "source": [
    "sn.histplot(x=\"amt\",hue=\"is_fraud\",bins=20,stat=\"probability\",data=train[train[\"amt\"]<=p90],common_norm=False);"
   ]
  },
  {
   "cell_type": "code",
   "execution_count": null,
   "id": "7d9a86a1-9f16-40c4-8936-a1fa52b0f0c1",
   "metadata": {},
   "outputs": [],
   "source": [
    "train['age'] = dt.date.today().year-pd.to_datetime(train['dob']).dt.year\n",
    "ax = sn.kdeplot(x='age', data=train, hue='is_fraud', common_norm=False)\n",
    "ax.set_xlabel('Credit Card Holder Age')\n",
    "ax.set_ylabel('Density')"
   ]
  },
  {
   "cell_type": "code",
   "execution_count": null,
   "id": "46e1659a-6ffe-4e15-aaea-1ac28723bb14",
   "metadata": {},
   "outputs": [],
   "source": [
    "train['hour'] = pd.to_datetime(train['trans_date_trans_time']).dt.hour\n",
    "f, (ax1, ax2) = plt.subplots(1, 2, figsize=(15, 6), sharey=True)\n",
    "ax1 = sn.histplot(x='hour', data=train[train[\"is_fraud\"] == 0],\n",
    "                   stat=\"density\", bins=24, ax=ax1)\n",
    "ax2 = sn.histplot(x='hour', data=train[train[\"is_fraud\"] == 1],\n",
    "                   stat=\"density\", bins=24, ax=ax2)\n",
    "ax1.set_title(\"Normal\")\n",
    "ax2.set_title(\"Fraud\")"
   ]
  },
  {
   "cell_type": "code",
   "execution_count": null,
   "id": "34f32359-064c-4856-a767-58104994e388",
   "metadata": {},
   "outputs": [],
   "source": [
    "train.drop(columns=[\"merchant\",\"first\",\"last\",\"street\",\"unix_time\",\"trans_num\"],inplace=True)"
   ]
  },
  {
   "cell_type": "code",
   "execution_count": null,
   "id": "1fe46aae-7d3e-4170-b13a-787ca0214fd3",
   "metadata": {},
   "outputs": [],
   "source": [
    "train.head(3)"
   ]
  },
  {
   "cell_type": "code",
   "execution_count": null,
   "id": "44d055ed-e2b8-49b8-9798-b1bcc3651d25",
   "metadata": {},
   "outputs": [],
   "source": [
    "#log encoding amt field\n",
    "train[\"amt_log\"]=np.log1p(train[\"amt\"])\n"
   ]
  },
  {
   "cell_type": "code",
   "execution_count": null,
   "id": "44636392-467f-4702-8f2d-4ed1b1293ad8",
   "metadata": {},
   "outputs": [],
   "source": [
    "# def woe_encode(train, column, target):\n",
    "#     woe=ce.WOEEncoder()\n",
    "#     for col in columns:\n",
    "#         X=train[col]\n",
    "#         y=train[target_col]\n",
    "\n",
    "#         new_col=f\"{col}_WOE\"\n",
    "#         train[new_col]=woe.fir_transform(X,y)\n",
    "\n",
    "#     return train\n",
    "\n",
    "# encode_columns=[\"category\",\"state\",\"city\",\"job\"]\n",
    "# target=train[\"is_fraud\"]\n",
    "\n",
    "# train=woe_encode(train,encode_columns,target)"
   ]
  },
  {
   "cell_type": "code",
   "execution_count": null,
   "id": "4d04db37-a277-4ef2-a7dc-cad0a9aeac1a",
   "metadata": {},
   "outputs": [],
   "source": [
    "# from category_encoders.target_encoder import TargetEncoder\n",
    "# enc = TargetEncoder(cols = [\"category\",\"state\",\"city\",\"job\"]).fit(x_train, y_train)\n",
    "# X_train_encoded = enc.transform(x_train)\n",
    "# X_test_encoded = enc.transform(x_test)"
   ]
  },
  {
   "cell_type": "code",
   "execution_count": null,
   "id": "939a8707-451f-4e16-bdb8-4c590d73d35f",
   "metadata": {},
   "outputs": [],
   "source": [
    "# pd.get_dummies(\"train\")\n",
    "test.head()"
   ]
  },
  {
   "cell_type": "code",
   "execution_count": null,
   "id": "5832aa92-70d5-451d-9162-3ea6cc2ce57b",
   "metadata": {},
   "outputs": [],
   "source": [
    "train.head(3)"
   ]
  },
  {
   "cell_type": "code",
   "execution_count": null,
   "id": "d3496ac6-8817-4cb8-b2e9-df7f326e4d12",
   "metadata": {},
   "outputs": [],
   "source": [
    "test['age'] = dt.date.today().year-pd.to_datetime(test['dob']).dt.year\n",
    "test['hour'] = pd.to_datetime(test['trans_date_trans_time']).dt.hour\n",
    "test['month'] = pd.to_datetime(test['trans_date_trans_time']).dt.month\n",
    "\n",
    "test.drop(columns=[\"merchant\", \"first\", \"last\", \"street\",\"unix_time\", \"trans_num\",\"is_fraud\"], inplace=True)\n",
    "\n",
    "test[\"amt_log\"] = np.log1p(test[\"amt\"])\n"
   ]
  },
  {
   "cell_type": "code",
   "execution_count": null,
   "id": "35ff86f4-fa15-488f-80f6-25fbb44e86d2",
   "metadata": {},
   "outputs": [],
   "source": [
    "train['age'] = dt.date.today().year-pd.to_datetime(test['dob']).dt.year\n",
    "train['hour'] = pd.to_datetime(test['trans_date_trans_time']).dt.hour\n",
    "train['month'] = pd.to_datetime(test['trans_date_trans_time']).dt.month\n",
    "# train.drop(columns=[\"merchant\", \"first\", \"last\", \"street\",\"unix_time\", \"trans_num\",\"is_fraud\"], inplace=True)\n",
    "\n",
    "train[\"amt_log\"] = np.log1p(train[\"amt\"])\n",
    "train.head()"
   ]
  },
  {
   "cell_type": "code",
   "execution_count": null,
   "id": "f626fa64-492a-4476-a6e7-7cb7dc6d4907",
   "metadata": {},
   "outputs": [],
   "source": []
  },
  {
   "cell_type": "code",
   "execution_count": null,
   "id": "0c1e9332-59fa-481b-9b51-1e07f6642f01",
   "metadata": {},
   "outputs": [],
   "source": [
    "# X_train = train.drop(columns=[\"trans_date_trans_time\",\"city\", \"state\", \"category\", \"gender\", \"dob\", \"job\", \"cc_num\", \"amt\",\"trans_num\",\"merchant\", \"first\", \"last\", \"street\",\"unix_time\"])\n",
    "\n",
    "y_train = train[\"is_fraud\"]"
   ]
  },
  {
   "cell_type": "code",
   "execution_count": null,
   "id": "681ceb18-4a6a-4d32-9036-deb23f308504",
   "metadata": {},
   "outputs": [],
   "source": [
    "X_train.head()"
   ]
  },
  {
   "cell_type": "code",
   "execution_count": null,
   "id": "dec9fc0c-c5fa-4a1a-a9da-d7e79d43de37",
   "metadata": {},
   "outputs": [],
   "source": [
    "X_test = test.drop(columns=[\"trans_date_trans_time\",\"city\", \"state\", \"category\", \"gender\", \"dob\", \"job\", \"cc_num\", \"amt\",\"age\",\"amt_log\",\"hour\",\"month\",\"is_fraud\"])\n",
    "\n",
    "y_test = test[\"is_fraud\"]\n",
    "# X_test.head(3)\n",
    "X_train.shape\n"
   ]
  },
  {
   "cell_type": "code",
   "execution_count": null,
   "id": "fef176f2-faed-4427-a7a1-187806184b99",
   "metadata": {},
   "outputs": [],
   "source": [
    "X_train = train.drop(columns=[\"trans_date_trans_time\",\"city\", \"state\", \"category\", \"gender\", \"dob\", \"job\", \"cc_num\", \"amt\",\"age\",\"amt_log\",\"hour\",\"month\",\"is_fraud\"])\n"
   ]
  },
  {
   "cell_type": "code",
   "execution_count": null,
   "id": "560dc83c-c0e1-486c-81cc-9a1d4f55d019",
   "metadata": {},
   "outputs": [],
   "source": [
    "from sklearn.model_selection import train_test_split\n",
    "X_train, X_valid, y_train, y_valid = train_test_split(\n",
    "    X_train, y_train, stratify=y_train, test_size=0.2)\n"
   ]
  },
  {
   "cell_type": "code",
   "execution_count": null,
   "id": "59607715-5a17-44f5-823b-e168b692fb1c",
   "metadata": {},
   "outputs": [],
   "source": [
    "from sklearn.ensemble import RandomForestClassifier"
   ]
  },
  {
   "cell_type": "code",
   "execution_count": null,
   "id": "25a33154-150c-42fe-a928-dbe112b7d725",
   "metadata": {},
   "outputs": [],
   "source": [
    "model=RandomForestClassifier()\n"
   ]
  },
  {
   "cell_type": "code",
   "execution_count": null,
   "id": "437aecdc-46ab-4a2f-b9e0-21dce6c129a7",
   "metadata": {},
   "outputs": [],
   "source": [
    "model.fit(X_train,y_train)"
   ]
  },
  {
   "cell_type": "code",
   "execution_count": null,
   "id": "d01a0ff4-b9e9-433a-830a-5f75e38e94f0",
   "metadata": {},
   "outputs": [],
   "source": [
    "X_train.isna().sum()\n"
   ]
  },
  {
   "cell_type": "code",
   "execution_count": null,
   "id": "4230ef8d-6405-4ef5-b852-9f769c200fbe",
   "metadata": {},
   "outputs": [],
   "source": [
    "X_test.isna().sum()"
   ]
  },
  {
   "cell_type": "code",
   "execution_count": null,
   "id": "a62b9995-12d8-45c0-bcfe-f0e90d8b910c",
   "metadata": {},
   "outputs": [],
   "source": [
    "y_pred=model.predict(X_test)"
   ]
  },
  {
   "cell_type": "code",
   "execution_count": null,
   "id": "77d588df-0d00-4151-94b7-cb504b9b78d6",
   "metadata": {},
   "outputs": [],
   "source": [
    "from sklearn.metrics import accuracy_score"
   ]
  },
  {
   "cell_type": "code",
   "execution_count": null,
   "id": "27519dac-f38e-4481-af66-486f84d8ce56",
   "metadata": {},
   "outputs": [],
   "source": [
    "accuracy=accuracy_score(y_test,y_pred)"
   ]
  },
  {
   "cell_type": "code",
   "execution_count": null,
   "id": "31707eda-2fc7-49be-ade2-d5f13d170733",
   "metadata": {},
   "outputs": [],
   "source": [
    "print(\"accuracy:\",accuracy)"
   ]
  },
  {
   "cell_type": "code",
   "execution_count": null,
   "id": "77932bf8-9a55-43b5-bf35-c035c5c485fb",
   "metadata": {},
   "outputs": [],
   "source": []
  }
 ],
 "metadata": {
  "kernelspec": {
   "display_name": "Python 3 (ipykernel)",
   "language": "python",
   "name": "python3"
  },
  "language_info": {
   "codemirror_mode": {
    "name": "ipython",
    "version": 3
   },
   "file_extension": ".py",
   "mimetype": "text/x-python",
   "name": "python",
   "nbconvert_exporter": "python",
   "pygments_lexer": "ipython3",
   "version": "3.11.7"
  }
 },
 "nbformat": 4,
 "nbformat_minor": 5
}
